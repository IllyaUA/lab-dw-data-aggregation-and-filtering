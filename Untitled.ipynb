{
 "cells": [
  {
   "cell_type": "code",
   "execution_count": null,
   "id": "50623539",
   "metadata": {},
   "outputs": [],
   "source": [
    "import pandas as pd\n",
    "\n",
    "def analyze(factbook_pop: str, factbook_obesity: str) -> pd.DataFrame:\n",
    "        # Read the population data\n",
    "    pop_df = pd.read_csv(factbook_pop, header=None)\n",
    "\n",
    "    # Rename the columns\n",
    "    pop_df.columns = [\"Position\", \"Country\", \"Population\"]\n",
    "\n",
    "\n",
    "    # Read the obesity data \n",
    "    obesity_df = pd.read_csv(factbook_obesity, header=None)\n",
    "    obesity_df.columns = [\"Position\", \"Country\", \"Obesity Rate\"]\n",
    "    # Merge the two by the 'Country' column\n",
    "    merged_df = pd.merge(pop_df, obesity_df, on='Country')\n",
    "\n",
    "    return merged_df\n",
    "    \n"
   ]
  }
 ],
 "metadata": {
  "kernelspec": {
   "display_name": "Python 3 (ipykernel)",
   "language": "python",
   "name": "python3"
  },
  "language_info": {
   "codemirror_mode": {
    "name": "ipython",
    "version": 3
   },
   "file_extension": ".py",
   "mimetype": "text/x-python",
   "name": "python",
   "nbconvert_exporter": "python",
   "pygments_lexer": "ipython3",
   "version": "3.11.4"
  }
 },
 "nbformat": 4,
 "nbformat_minor": 5
}
